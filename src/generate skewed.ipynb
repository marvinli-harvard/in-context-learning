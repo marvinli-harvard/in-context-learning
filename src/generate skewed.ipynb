{
 "cells": [
  {
   "cell_type": "code",
   "execution_count": 1,
   "id": "16357791",
   "metadata": {},
   "outputs": [],
   "source": [
    "from collections import OrderedDict\n",
    "import re\n",
    "import os\n",
    "\n",
    "import matplotlib.pyplot as plt\n",
    "import pandas as pd\n",
    "import seaborn as sns\n",
    "import torch\n",
    "from tqdm.notebook import tqdm\n",
    "\n",
    "from eval import * \n",
    "from plot_utils import *\n",
    "from models import *\n",
    "from samplers import *\n",
    "%matplotlib inline\n",
    "%load_ext autoreload\n",
    "%autoreload 2\n",
    "\n",
    "sns.set_theme('notebook', 'darkgrid')\n",
    "palette = sns.color_palette('colorblind')"
   ]
  },
  {
   "cell_type": "code",
   "execution_count": 2,
   "id": "8ac248a3",
   "metadata": {},
   "outputs": [],
   "source": [
    "run_dir = \"./models\"\n",
    "\n",
    "df = read_run_dir(run_dir)\n",
    "task = \"linear_regression\"\n",
    "#task = \"sparse_linear_regression\"\n",
    "#task = \"decision_tree\"\n",
    "#task = \"relu_2nn_regression\"\n",
    "\n",
    "run_id = \"pretrained\"  # if you train more models, replace with the run_id from the table above\n",
    "\n",
    "run_path = os.path.join(run_dir, task, run_id)\n",
    "\n",
    "_, conf = get_model_from_run(run_path, only_conf=True)"
   ]
  },
  {
   "cell_type": "code",
   "execution_count": 3,
   "id": "a99b8e4a",
   "metadata": {},
   "outputs": [],
   "source": [
    "#### Generate skewed points"
   ]
  },
  {
   "cell_type": "code",
   "execution_count": 4,
   "id": "ec6f2dd4",
   "metadata": {},
   "outputs": [],
   "source": [
    "result = build_evals(conf)\n",
    "skewed_sampler = GaussianSampler(n_dims=20, scale=result['skewed']['data_sampler_kwargs']['scale'])"
   ]
  },
  {
   "cell_type": "code",
   "execution_count": 6,
   "id": "2afeda4c",
   "metadata": {},
   "outputs": [],
   "source": [
    "from samplers import get_data_sampler\n",
    "from tasks import get_task_sampler\n",
    "\n",
    "model, conf = get_model_from_run(run_path)\n",
    "\n",
    "n_dims = conf.model.n_dims\n",
    "batch_size = conf.training.batch_size\n",
    "\n",
    "task_sampler = get_task_sampler(\n",
    "    conf.training.task,\n",
    "    n_dims,\n",
    "    batch_size,\n",
    "    **conf.training.task_kwargs\n",
    ")"
   ]
  },
  {
   "cell_type": "code",
   "execution_count": 14,
   "id": "6425496b",
   "metadata": {
    "scrolled": true
   },
   "outputs": [],
   "source": [
    "task = task_sampler()\n",
    "\n",
    "xs = skewed_sampler.sample_xs(b_size=batch_size, n_points=conf.training.curriculum.points.end)\n",
    "ys = task.evaluate(xs)"
   ]
  },
  {
   "cell_type": "code",
   "execution_count": 15,
   "id": "595c154e",
   "metadata": {},
   "outputs": [],
   "source": [
    "with torch.no_grad():\n",
    "    pred = model(xs, ys)\n",
    "metric = task.get_metric()\n",
    "loss = metric(pred, ys).numpy()"
   ]
  },
  {
   "cell_type": "code",
   "execution_count": 17,
   "id": "5dd78ee8",
   "metadata": {},
   "outputs": [
    {
     "name": "stdout",
     "output_type": "stream",
     "text": [
      "['0.880', '0.912', '0.441', '0.467', '0.259', '0.300', '0.161', '0.113', '0.135', '0.117', '0.113', '0.117', '0.087', '0.085', '0.047', '0.150', '0.124', '0.292', '0.136', '0.219', '0.136', '0.181', '0.216', '0.133', '0.222', '0.171', '0.117', '0.128', '0.197', '0.185', '0.193', '0.246', '0.143', '0.178', '0.238', '0.156', '0.199', '0.222', '0.117', '0.163', '0.150']\n"
     ]
    }
   ],
   "source": [
    "print([\"%.3f\" % (val/20) for val in loss.mean(axis=0)])"
   ]
  }
 ],
 "metadata": {
  "kernelspec": {
   "display_name": "Python 3 (ipykernel)",
   "language": "python",
   "name": "python3"
  },
  "language_info": {
   "codemirror_mode": {
    "name": "ipython",
    "version": 3
   },
   "file_extension": ".py",
   "mimetype": "text/x-python",
   "name": "python",
   "nbconvert_exporter": "python",
   "pygments_lexer": "ipython3",
   "version": "3.8.8"
  }
 },
 "nbformat": 4,
 "nbformat_minor": 5
}
