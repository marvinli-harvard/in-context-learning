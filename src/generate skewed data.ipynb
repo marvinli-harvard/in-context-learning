{
 "cells": [
  {
   "cell_type": "code",
   "execution_count": 32,
   "id": "16357791",
   "metadata": {},
   "outputs": [
    {
     "name": "stdout",
     "output_type": "stream",
     "text": [
      "The autoreload extension is already loaded. To reload it, use:\n",
      "  %reload_ext autoreload\n"
     ]
    }
   ],
   "source": [
    "from collections import OrderedDict\n",
    "import re\n",
    "import os\n",
    "\n",
    "import matplotlib.pyplot as plt\n",
    "import pandas as pd\n",
    "import seaborn as sns\n",
    "import torch\n",
    "from tqdm.notebook import tqdm\n",
    "\n",
    "from eval import * \n",
    "from plot_utils import *\n",
    "from models import *\n",
    "from samplers import *\n",
    "%matplotlib inline\n",
    "%load_ext autoreload\n",
    "%autoreload 2\n",
    "\n",
    "sns.set_theme('notebook', 'darkgrid')\n",
    "palette = sns.color_palette('colorblind')"
   ]
  },
  {
   "cell_type": "code",
   "execution_count": 34,
   "id": "8ac248a3",
   "metadata": {},
   "outputs": [],
   "source": [
    "run_dir = \"./models\"\n",
    "\n",
    "df = read_run_dir(run_dir)\n",
    "task = \"linear_regression\"\n",
    "\n",
    "run_id = \"pretrained\"  # if you train more models, replace with the run_id from the table above\n",
    "\n",
    "run_path = os.path.join(run_dir, task, run_id)\n",
    "\n",
    "_, conf = get_model_from_run(run_path, only_conf=True)"
   ]
  },
  {
   "cell_type": "code",
   "execution_count": 52,
   "id": "f6efb4ad",
   "metadata": {},
   "outputs": [
    {
     "name": "stdout",
     "output_type": "stream",
     "text": [
      "linear_regression_pretrained pretrained\n"
     ]
    },
    {
     "name": "stderr",
     "output_type": "stream",
     "text": [
      "100%|███████████████████████████████████████| 15/15 [00:00<00:00, 245760.00it/s]\n"
     ]
    },
    {
     "data": {
      "text/plain": [
       "[1.0172086715698243,\n",
       " 0.6402848720550537,\n",
       " 0.5014616489410401,\n",
       " 0.3776614427566528,\n",
       " 0.31359572410583497,\n",
       " 0.2116999626159668,\n",
       " 0.18059089183807372,\n",
       " 0.15971052646636963,\n",
       " 0.1399226188659668,\n",
       " 0.11061776876449585,\n",
       " 0.1028898000717163,\n",
       " 0.11127077341079712,\n",
       " 0.10663849115371704,\n",
       " 0.1094159483909607,\n",
       " 0.1145581603050232,\n",
       " 0.11590192317962647,\n",
       " 0.09470928311347962,\n",
       " 0.10462424755096436,\n",
       " 0.10046427249908448,\n",
       " 0.14134728908538818,\n",
       " 0.11887277364730835,\n",
       " 0.11603138446807862,\n",
       " 0.12148859500885009,\n",
       " 0.10129406452178955,\n",
       " 0.11050920486450196,\n",
       " 0.11128654479980468,\n",
       " 0.12795674800872803,\n",
       " 0.12330986261367798,\n",
       " 0.1367938280105591,\n",
       " 0.14273830652236938,\n",
       " 0.14310156106948851,\n",
       " 0.11852085590362549,\n",
       " 0.13730885982513427,\n",
       " 0.11852630376815795,\n",
       " 0.15389941930770873,\n",
       " 0.11677205562591553,\n",
       " 0.10656915903091431,\n",
       " 0.12296102046966553,\n",
       " 0.1085016131401062,\n",
       " 0.09641695022583008,\n",
       " 0.12826961278915405]"
      ]
     },
     "execution_count": 52,
     "metadata": {},
     "output_type": "execute_result"
    }
   ],
   "source": [
    "def valid_row(r):\n",
    "    return r.task == task and r.run_id == run_id\n",
    "\n",
    "metrics = collect_results(run_dir, df, valid_row=valid_row)\n",
    "_, conf = get_model_from_run(run_path, only_conf=True)\n",
    "n_dims = conf.model.n_dims\n",
    "print(\"Recorded losses for skewed inputs\")\n",
    "print(metrics['skewed']['Transformer']['mean']()"
   ]
  },
  {
   "cell_type": "code",
   "execution_count": null,
   "id": "a99b8e4a",
   "metadata": {},
   "outputs": [],
   "source": [
    "#### Confirm that we obtain the same "
   ]
  },
  {
   "cell_type": "code",
   "execution_count": 39,
   "id": "ec6f2dd4",
   "metadata": {},
   "outputs": [],
   "source": [
    "result = build_evals(conf)\n",
    "skewed_sampler = GaussianSampler(n_dims=20, scale=result['skewed']['data_sampler_kwargs']['scale'])"
   ]
  },
  {
   "cell_type": "code",
   "execution_count": null,
   "id": "2477e703",
   "metadata": {},
   "outputs": [],
   "source": [
    "from samplers import get_data_sampler\n",
    "from tasks import get_task_sampler"
   ]
  },
  {
   "cell_type": "code",
   "execution_count": null,
   "id": "2afeda4c",
   "metadata": {},
   "outputs": [],
   "source": [
    "from samplers import get_data_sampler\n",
    "from tasks import get_task_sampler\n",
    "\n",
    "model, conf = get_model_from_run(run_path)\n",
    "\n",
    "n_dims = conf.model.n_dims\n",
    "batch_size = conf.training.batch_size\n",
    "\n",
    "data_sampler = get_data_sampler(conf.training.data, n_dims)\n",
    "task_sampler = get_task_sampler(\n",
    "    conf.training.task,\n",
    "    n_dims,\n",
    "    batch_size,\n",
    "    **conf.training.task_kwargs\n",
    ")"
   ]
  },
  {
   "cell_type": "code",
   "execution_count": null,
   "id": "6425496b",
   "metadata": {},
   "outputs": [],
   "source": [
    "xs = data_sampler.sample_xs(b_size=batch_size, n_points=conf.training.curriculum.points.end)\n",
    "ys = task.evaluate(xs)"
   ]
  },
  {
   "cell_type": "code",
   "execution_count": null,
   "id": "595c154e",
   "metadata": {},
   "outputs": [],
   "source": [
    "with torch.no_grad():\n",
    "    pred = model(xs, ys)"
   ]
  },
  {
   "cell_type": "code",
   "execution_count": null,
   "id": "6b3fc5e8",
   "metadata": {},
   "outputs": [],
   "source": [
    "metric = task.get_metric()\n",
    "loss = metric(pred, ys).numpy()\n",
    "print(\"Losses for new skewed data\")\n",
    "print([\"%.3f\" % (val/20) for val in loss.mean(axis=0)])"
   ]
  }
 ],
 "metadata": {
  "kernelspec": {
   "display_name": "Python 3 (ipykernel)",
   "language": "python",
   "name": "python3"
  },
  "language_info": {
   "codemirror_mode": {
    "name": "ipython",
    "version": 3
   },
   "file_extension": ".py",
   "mimetype": "text/x-python",
   "name": "python",
   "nbconvert_exporter": "python",
   "pygments_lexer": "ipython3",
   "version": "3.8.8"
  }
 },
 "nbformat": 4,
 "nbformat_minor": 5
}
